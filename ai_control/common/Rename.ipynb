{
 "cells": [
  {
   "cell_type": "code",
   "execution_count": 13,
   "metadata": {},
   "outputs": [],
   "source": [
    "import os"
   ]
  },
  {
   "cell_type": "code",
   "execution_count": 14,
   "metadata": {},
   "outputs": [],
   "source": [
    "path_image = \"data\"\n",
    "path_image_rename = \"data_rename\"\n",
    "path_type_datasets = ['Train', 'Val']\n",
    "path_labels = ['Top', 'Bottom', 'Left', 'Right', 'Attack', 'Stop']"
   ]
  },
  {
   "cell_type": "code",
   "execution_count": 15,
   "metadata": {},
   "outputs": [],
   "source": [
    "for path_type_dataset in path_type_datasets:\n",
    "    for path_label in path_labels:\n",
    "        path_data_origin = os.path.join(path_image, path_type_dataset, path_label)\n",
    "        path_data_rename = os.path.join(path_image_rename, path_type_dataset, path_label)\n",
    "        for file in os.listdir(path_data_origin):\n",
    "            newName = path_label + '_' + file.split('_')[1]\n",
    "            os.renames(os.path.join(path_data_origin, file), os.path.join(path_data_rename, newName))"
   ]
  }
 ],
 "metadata": {
  "kernelspec": {
   "display_name": "Python 3.9.4 64-bit",
   "language": "python",
   "name": "python3"
  },
  "language_info": {
   "codemirror_mode": {
    "name": "ipython",
    "version": 3
   },
   "file_extension": ".py",
   "mimetype": "text/x-python",
   "name": "python",
   "nbconvert_exporter": "python",
   "pygments_lexer": "ipython3",
   "version": "3.9.4"
  },
  "orig_nbformat": 4,
  "vscode": {
   "interpreter": {
    "hash": "3ade0018d4eebda756c9ab6e72464853b97254cf2744c4a04fb71c5fd4995f57"
   }
  }
 },
 "nbformat": 4,
 "nbformat_minor": 2
}
